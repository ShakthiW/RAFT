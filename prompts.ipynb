{
 "cells": [
  {
   "cell_type": "code",
   "execution_count": 8,
   "metadata": {},
   "outputs": [
    {
     "name": "stdout",
     "output_type": "stream",
     "text": [
      "Collecting python-dotenv\n",
      "  Using cached python_dotenv-1.0.1-py3-none-any.whl.metadata (23 kB)\n",
      "Using cached python_dotenv-1.0.1-py3-none-any.whl (19 kB)\n",
      "Installing collected packages: python-dotenv\n",
      "Successfully installed python-dotenv-1.0.1\n"
     ]
    }
   ],
   "source": [
    "!pip install python-dotenv"
   ]
  },
  {
   "cell_type": "code",
   "execution_count": 9,
   "metadata": {},
   "outputs": [
    {
     "name": "stdout",
     "output_type": "stream",
     "text": [
      "dot_env_file_exist:  False\n"
     ]
    }
   ],
   "source": [
    "import os\n",
    "from os import environ\n",
    "import numpy as np\n",
    "\n",
    "import pandas as pd\n",
    "pd.set_option('display.max_colwidth', 0)\n",
    "\n",
    "from dotenv import load_dotenv, find_dotenv\n",
    "\n",
    "dot_env_file_exist = load_dotenv(find_dotenv()) # read local .env file\n",
    "# Returns true or false if .env exists in current directory\n",
    "print('dot_env_file_exist: ', dot_env_file_exist)\n",
    "\n",
    "import openai\n",
    "import json"
   ]
  },
  {
   "cell_type": "code",
   "execution_count": 12,
   "metadata": {},
   "outputs": [],
   "source": [
    "# Save key to .env file\n",
    "# !dotenv get OPENAI_API_KEY \n",
    "\n",
    "# PYTHON Solution: Read the key directly from the .env file\n",
    "openai.api_key = \"\""
   ]
  },
  {
   "cell_type": "code",
   "execution_count": 2,
   "metadata": {},
   "outputs": [],
   "source": [
    "prompt = [\n",
    "    \"Difficulty breathing, dizziness, and a rash after eating. What should I do?\",\n",
    "    \"Severe allergic reaction with difficulty breathing. How can I help?\",\n",
    "    \"I've got a severe headache and feel nauseous. What are the steps I should take?\",\n",
    "    \"What should I do for a sprained ankle?\",\n",
    "    \"Someone's choking on their food. How can I assist?\",\n",
    "    \"Experiencing severe chest pain and shortness of breath. What steps should I follow?\",\n",
    "    \"Burned my hand on a hot stove. What first aid should I apply?\",\n",
    "    \"What to do if someone faints and doesn't wake up immediately?\",\n",
    "    \"Severe bleeding from a cut on the arm. How can I stop it?\",\n",
    "    \"A possible broken leg after a fall. How to manage until help arrives?\",\n",
    "    \"Electrical shock from touching a live wire. What's the first step?\",\n",
    "    \"Heat exhaustion symptoms after being in the sun. How to treat?\"\n",
    "]\n",
    "\n",
    "assistant_content =[\n",
    "    \"1. Ensure the person is in a safe area. 2. Check for any other symptoms. 3. Call emergency services if breathing is severely impacted. 4. Try to identify the cause of the allergic reaction.\",\n",
    "    \"1. Check if the person is carrying an epinephrine auto-injector (EpiPen) and assist in using it if necessary. 2. Call emergency services. 3. Keep the person calm and lying down. 4. If breathing stops, begin CPR.\",\n",
    "    \"1. It sounds like you might be experiencing a migraine or another severe headache type. 2. If nausea is present, try to rest in a dark, quiet room. 3. Over-the-counter pain relief can help, but if symptoms persist, see a doctor.\",\n",
    "    \"1. For a sprained ankle, follow the R.I.C.E. method: Rest, Ice, Compression, and Elevation. 2. Rest your ankle, apply ice to reduce swelling, use a bandage for compression, and keep your ankle elevated.\",\n",
    "    \"1. For choking, immediately ask if they can speak or breathe. 2. If not, stand behind them, lean them forward slightly, and give 5 sharp back blows between the shoulder blades with the heel of your hand. 3. If that doesn't work, perform the Heimlich maneuver.\",\n",
    "    \"1. If someone is experiencing chest pain and shortness of breath, call emergency services immediately as these could be signs of a heart attack. 2. Keep them calm and seated in a comfortable position until help arrives.\",\n",
    "    \"1. For a burn, cool the burn under running water for at least 10 minutes. 2. Cover the burn with a sterile, non-fluffy dressing or cloth. 3. Avoid applying creams, ointments, or ice. 4. Seek medical help if the burn is larger or more severe.\",\n",
    "    \"1. If someone faints, make sure they are lying flat on their back and elevate their legs to improve blood flow to the brain. 2. Check for breathing and if they don't wake up within a minute, call emergency services.\",\n",
    "    \"1. To stop severe bleeding, apply direct pressure to the wound with a clean cloth or bandage. 2. Keep the pressure constant, and if possible, elevate the limb above the heart level. 3. Call for emergency help if the bleeding does not stop.\",\n",
    "    \"1. For a suspected broken leg, do not try to realign the bone. 2. Immobilize the leg as best as you can, apply ice to reduce swelling, and cover any wounds to prevent infection. 3. Wait for medical help to arrive.\",\n",
    "    \"1. For an electrical shock, first, ensure the power source is turned off before touching the person. 2. Call emergency services. 3. If they are unconscious but breathing, place them in the recovery position. 4. If not breathing, start CPR.\",\n",
    "    \"1. For heat exhaustion, move the person to a cool place, have them lie down, and raise their legs. 2. Give them plenty of water to drink, and cool their skin with water. 3. Seek medical attention if conditions like confusion or vomiting occur.\"\n",
    "]\n",
    "\n",
    "system_content = \"\"\"Purpose: The primary role of this agent is to assist users by providing\n",
    "            them with step by step instructions on how to give first aid to the deciese \n",
    "            identified.\"\"\""
   ]
  },
  {
   "cell_type": "code",
   "execution_count": 3,
   "metadata": {},
   "outputs": [],
   "source": [
    "for i, desired_A in enumerate(assistant_content):\n",
    "    df_temp = pd.DataFrame([[\"system\", system_content], [\"user\", prompt[i]], [\"assistant\", desired_A]], columns=[\"role\", \"content\"])\n",
    "    df_temp_json = df_temp.to_json(orient='records', lines=False)\n",
    "    df_temp_line = pd.Series(df_temp_json)\n",
    "    messages = pd.DataFrame([[df_temp_line[0]]], columns=[\"messages\"])\n",
    "    \n",
    "    if i == 0:\n",
    "        # This turns messages into json format, which is a string\n",
    "        messages.to_json('datafile.jsonl', orient='records', lines=True, compression='infer', mode='w')\n",
    "    else:\n",
    "        # This turns messages into json format, which is a string\n",
    "        messages.to_json('datafile.jsonl', orient='records', lines=True, compression='infer', mode='a')\n",
    "\n"
   ]
  },
  {
   "cell_type": "code",
   "execution_count": 13,
   "metadata": {},
   "outputs": [
    {
     "name": "stdout",
     "output_type": "stream",
     "text": [
      "{\"messages\":\"[{\\\"role\\\":\\\"system\\\",\\\"content\\\":\\\"Purpose: The primary role of this agent is to assist users by providing\\\\n            them with step by step instructions on how to give first aid to the deciese \\\\n            identified.\\\"},{\\\"role\\\":\\\"user\\\",\\\"content\\\":\\\"Difficulty breathing, dizziness, and a rash after eating. What should I do?\\\"},{\\\"role\\\":\\\"assistant\\\",\\\"content\\\":\\\"1. Ensure the person is in a safe area. 2. Check for any other symptoms. 3. Call emergency services if breathing is severely impacted. 4. Try to identify the cause of the allergic reaction.\\\"}]\"}\n",
      "{\"messages\":\"[{\\\"role\\\":\\\"system\\\",\\\"content\\\":\\\"Purpose: The primary role of this agent is to assist users by providing\\\\n            them with step by step instructions on how to give first aid to the deciese \\\\n            identified.\\\"},{\\\"role\\\":\\\"user\\\",\\\"content\\\":\\\"Severe allergic reaction with difficulty breathing. How can I help?\\\"},{\\\"role\\\":\\\"assistant\\\",\\\"content\\\":\\\"1. Check if the person is carrying an epinephrine auto-injector (EpiPen) and assist in using it if necessary. 2. Call emergency services. 3. Keep the person calm and lying down. 4. If breathing stops, begin CPR.\\\"}]\"}\n",
      "{\"messages\":\"[{\\\"role\\\":\\\"system\\\",\\\"content\\\":\\\"Purpose: The primary role of this agent is to assist users by providing\\\\n            them with step by step instructions on how to give first aid to the deciese \\\\n            identified.\\\"},{\\\"role\\\":\\\"user\\\",\\\"content\\\":\\\"I've got a severe headache and feel nauseous. What are the steps I should take?\\\"},{\\\"role\\\":\\\"assistant\\\",\\\"content\\\":\\\"1. It sounds like you might be experiencing a migraine or another severe headache type. 2. If nausea is present, try to rest in a dark, quiet room. 3. Over-the-counter pain relief can help, but if symptoms persist, see a doctor.\\\"}]\"}\n",
      "{\"messages\":\"[{\\\"role\\\":\\\"system\\\",\\\"content\\\":\\\"Purpose: The primary role of this agent is to assist users by providing\\\\n            them with step by step instructions on how to give first aid to the deciese \\\\n            identified.\\\"},{\\\"role\\\":\\\"user\\\",\\\"content\\\":\\\"What should I do for a sprained ankle?\\\"},{\\\"role\\\":\\\"assistant\\\",\\\"content\\\":\\\"1. For a sprained ankle, follow the R.I.C.E. method: Rest, Ice, Compression, and Elevation. 2. Rest your ankle, apply ice to reduce swelling, use a bandage for compression, and keep your ankle elevated.\\\"}]\"}\n",
      "{\"messages\":\"[{\\\"role\\\":\\\"system\\\",\\\"content\\\":\\\"Purpose: The primary role of this agent is to assist users by providing\\\\n            them with step by step instructions on how to give first aid to the deciese \\\\n            identified.\\\"},{\\\"role\\\":\\\"user\\\",\\\"content\\\":\\\"Someone's choking on their food. How can I assist?\\\"},{\\\"role\\\":\\\"assistant\\\",\\\"content\\\":\\\"1. For choking, immediately ask if they can speak or breathe. 2. If not, stand behind them, lean them forward slightly, and give 5 sharp back blows between the shoulder blades with the heel of your hand. 3. If that doesn't work, perform the Heimlich maneuver.\\\"}]\"}\n",
      "{\"messages\":\"[{\\\"role\\\":\\\"system\\\",\\\"content\\\":\\\"Purpose: The primary role of this agent is to assist users by providing\\\\n            them with step by step instructions on how to give first aid to the deciese \\\\n            identified.\\\"},{\\\"role\\\":\\\"user\\\",\\\"content\\\":\\\"Experiencing severe chest pain and shortness of breath. What steps should I follow?\\\"},{\\\"role\\\":\\\"assistant\\\",\\\"content\\\":\\\"1. If someone is experiencing chest pain and shortness of breath, call emergency services immediately as these could be signs of a heart attack. 2. Keep them calm and seated in a comfortable position until help arrives.\\\"}]\"}\n",
      "{\"messages\":\"[{\\\"role\\\":\\\"system\\\",\\\"content\\\":\\\"Purpose: The primary role of this agent is to assist users by providing\\\\n            them with step by step instructions on how to give first aid to the deciese \\\\n            identified.\\\"},{\\\"role\\\":\\\"user\\\",\\\"content\\\":\\\"Burned my hand on a hot stove. What first aid should I apply?\\\"},{\\\"role\\\":\\\"assistant\\\",\\\"content\\\":\\\"1. For a burn, cool the burn under running water for at least 10 minutes. 2. Cover the burn with a sterile, non-fluffy dressing or cloth. 3. Avoid applying creams, ointments, or ice. 4. Seek medical help if the burn is larger or more severe.\\\"}]\"}\n",
      "{\"messages\":\"[{\\\"role\\\":\\\"system\\\",\\\"content\\\":\\\"Purpose: The primary role of this agent is to assist users by providing\\\\n            them with step by step instructions on how to give first aid to the deciese \\\\n            identified.\\\"},{\\\"role\\\":\\\"user\\\",\\\"content\\\":\\\"What to do if someone faints and doesn't wake up immediately?\\\"},{\\\"role\\\":\\\"assistant\\\",\\\"content\\\":\\\"1. If someone faints, make sure they are lying flat on their back and elevate their legs to improve blood flow to the brain. 2. Check for breathing and if they don't wake up within a minute, call emergency services.\\\"}]\"}\n",
      "{\"messages\":\"[{\\\"role\\\":\\\"system\\\",\\\"content\\\":\\\"Purpose: The primary role of this agent is to assist users by providing\\\\n            them with step by step instructions on how to give first aid to the deciese \\\\n            identified.\\\"},{\\\"role\\\":\\\"user\\\",\\\"content\\\":\\\"Severe bleeding from a cut on the arm. How can I stop it?\\\"},{\\\"role\\\":\\\"assistant\\\",\\\"content\\\":\\\"1. To stop severe bleeding, apply direct pressure to the wound with a clean cloth or bandage. 2. Keep the pressure constant, and if possible, elevate the limb above the heart level. 3. Call for emergency help if the bleeding does not stop.\\\"}]\"}\n",
      "{\"messages\":\"[{\\\"role\\\":\\\"system\\\",\\\"content\\\":\\\"Purpose: The primary role of this agent is to assist users by providing\\\\n            them with step by step instructions on how to give first aid to the deciese \\\\n            identified.\\\"},{\\\"role\\\":\\\"user\\\",\\\"content\\\":\\\"A possible broken leg after a fall. How to manage until help arrives?\\\"},{\\\"role\\\":\\\"assistant\\\",\\\"content\\\":\\\"1. For a suspected broken leg, do not try to realign the bone. 2. Immobilize the leg as best as you can, apply ice to reduce swelling, and cover any wounds to prevent infection. 3. Wait for medical help to arrive.\\\"}]\"}\n",
      "{\"messages\":\"[{\\\"role\\\":\\\"system\\\",\\\"content\\\":\\\"Purpose: The primary role of this agent is to assist users by providing\\\\n            them with step by step instructions on how to give first aid to the deciese \\\\n            identified.\\\"},{\\\"role\\\":\\\"user\\\",\\\"content\\\":\\\"Electrical shock from touching a live wire. What's the first step?\\\"},{\\\"role\\\":\\\"assistant\\\",\\\"content\\\":\\\"1. For an electrical shock, first, ensure the power source is turned off before touching the person. 2. Call emergency services. 3. If they are unconscious but breathing, place them in the recovery position. 4. If not breathing, start CPR.\\\"}]\"}\n",
      "{\"messages\":\"[{\\\"role\\\":\\\"system\\\",\\\"content\\\":\\\"Purpose: The primary role of this agent is to assist users by providing\\\\n            them with step by step instructions on how to give first aid to the deciese \\\\n            identified.\\\"},{\\\"role\\\":\\\"user\\\",\\\"content\\\":\\\"Heat exhaustion symptoms after being in the sun. How to treat?\\\"},{\\\"role\\\":\\\"assistant\\\",\\\"content\\\":\\\"1. For heat exhaustion, move the person to a cool place, have them lie down, and raise their legs. 2. Give them plenty of water to drink, and cool their skin with water. 3. Seek medical attention if conditions like confusion or vomiting occur.\\\"}]\"}\n"
     ]
    }
   ],
   "source": [
    "!cat datafile.jsonl\n"
   ]
  },
  {
   "cell_type": "code",
   "execution_count": 14,
   "metadata": {},
   "outputs": [],
   "source": [
    "!cat datafile.jsonl | sed 's/\\\"\\[/ \\[/g' | sed 's/\\]\\\"/\\]/g' | sed 's/\\\\\"/\\\"/g' > datafile_nostring_around_data.jsonl"
   ]
  },
  {
   "cell_type": "code",
   "execution_count": 15,
   "metadata": {},
   "outputs": [
    {
     "name": "stdout",
     "output_type": "stream",
     "text": [
      "{\"messages\": [{\"role\":\"system\",\"content\":\"Purpose: The primary role of this agent is to assist users by providing\\\\n            them with step by step instructions on how to give first aid to the deciese \\\\n            identified.\"},{\"role\":\"user\",\"content\":\"Difficulty breathing, dizziness, and a rash after eating. What should I do?\"},{\"role\":\"assistant\",\"content\":\"1. Ensure the person is in a safe area. 2. Check for any other symptoms. 3. Call emergency services if breathing is severely impacted. 4. Try to identify the cause of the allergic reaction.\"}]}\n",
      "{\"messages\": [{\"role\":\"system\",\"content\":\"Purpose: The primary role of this agent is to assist users by providing\\\\n            them with step by step instructions on how to give first aid to the deciese \\\\n            identified.\"},{\"role\":\"user\",\"content\":\"Severe allergic reaction with difficulty breathing. How can I help?\"},{\"role\":\"assistant\",\"content\":\"1. Check if the person is carrying an epinephrine auto-injector (EpiPen) and assist in using it if necessary. 2. Call emergency services. 3. Keep the person calm and lying down. 4. If breathing stops, begin CPR.\"}]}\n",
      "{\"messages\": [{\"role\":\"system\",\"content\":\"Purpose: The primary role of this agent is to assist users by providing\\\\n            them with step by step instructions on how to give first aid to the deciese \\\\n            identified.\"},{\"role\":\"user\",\"content\":\"I've got a severe headache and feel nauseous. What are the steps I should take?\"},{\"role\":\"assistant\",\"content\":\"1. It sounds like you might be experiencing a migraine or another severe headache type. 2. If nausea is present, try to rest in a dark, quiet room. 3. Over-the-counter pain relief can help, but if symptoms persist, see a doctor.\"}]}\n",
      "{\"messages\": [{\"role\":\"system\",\"content\":\"Purpose: The primary role of this agent is to assist users by providing\\\\n            them with step by step instructions on how to give first aid to the deciese \\\\n            identified.\"},{\"role\":\"user\",\"content\":\"What should I do for a sprained ankle?\"},{\"role\":\"assistant\",\"content\":\"1. For a sprained ankle, follow the R.I.C.E. method: Rest, Ice, Compression, and Elevation. 2. Rest your ankle, apply ice to reduce swelling, use a bandage for compression, and keep your ankle elevated.\"}]}\n",
      "{\"messages\": [{\"role\":\"system\",\"content\":\"Purpose: The primary role of this agent is to assist users by providing\\\\n            them with step by step instructions on how to give first aid to the deciese \\\\n            identified.\"},{\"role\":\"user\",\"content\":\"Someone's choking on their food. How can I assist?\"},{\"role\":\"assistant\",\"content\":\"1. For choking, immediately ask if they can speak or breathe. 2. If not, stand behind them, lean them forward slightly, and give 5 sharp back blows between the shoulder blades with the heel of your hand. 3. If that doesn't work, perform the Heimlich maneuver.\"}]}\n",
      "{\"messages\": [{\"role\":\"system\",\"content\":\"Purpose: The primary role of this agent is to assist users by providing\\\\n            them with step by step instructions on how to give first aid to the deciese \\\\n            identified.\"},{\"role\":\"user\",\"content\":\"Experiencing severe chest pain and shortness of breath. What steps should I follow?\"},{\"role\":\"assistant\",\"content\":\"1. If someone is experiencing chest pain and shortness of breath, call emergency services immediately as these could be signs of a heart attack. 2. Keep them calm and seated in a comfortable position until help arrives.\"}]}\n",
      "{\"messages\": [{\"role\":\"system\",\"content\":\"Purpose: The primary role of this agent is to assist users by providing\\\\n            them with step by step instructions on how to give first aid to the deciese \\\\n            identified.\"},{\"role\":\"user\",\"content\":\"Burned my hand on a hot stove. What first aid should I apply?\"},{\"role\":\"assistant\",\"content\":\"1. For a burn, cool the burn under running water for at least 10 minutes. 2. Cover the burn with a sterile, non-fluffy dressing or cloth. 3. Avoid applying creams, ointments, or ice. 4. Seek medical help if the burn is larger or more severe.\"}]}\n",
      "{\"messages\": [{\"role\":\"system\",\"content\":\"Purpose: The primary role of this agent is to assist users by providing\\\\n            them with step by step instructions on how to give first aid to the deciese \\\\n            identified.\"},{\"role\":\"user\",\"content\":\"What to do if someone faints and doesn't wake up immediately?\"},{\"role\":\"assistant\",\"content\":\"1. If someone faints, make sure they are lying flat on their back and elevate their legs to improve blood flow to the brain. 2. Check for breathing and if they don't wake up within a minute, call emergency services.\"}]}\n",
      "{\"messages\": [{\"role\":\"system\",\"content\":\"Purpose: The primary role of this agent is to assist users by providing\\\\n            them with step by step instructions on how to give first aid to the deciese \\\\n            identified.\"},{\"role\":\"user\",\"content\":\"Severe bleeding from a cut on the arm. How can I stop it?\"},{\"role\":\"assistant\",\"content\":\"1. To stop severe bleeding, apply direct pressure to the wound with a clean cloth or bandage. 2. Keep the pressure constant, and if possible, elevate the limb above the heart level. 3. Call for emergency help if the bleeding does not stop.\"}]}\n",
      "{\"messages\": [{\"role\":\"system\",\"content\":\"Purpose: The primary role of this agent is to assist users by providing\\\\n            them with step by step instructions on how to give first aid to the deciese \\\\n            identified.\"},{\"role\":\"user\",\"content\":\"A possible broken leg after a fall. How to manage until help arrives?\"},{\"role\":\"assistant\",\"content\":\"1. For a suspected broken leg, do not try to realign the bone. 2. Immobilize the leg as best as you can, apply ice to reduce swelling, and cover any wounds to prevent infection. 3. Wait for medical help to arrive.\"}]}\n",
      "{\"messages\": [{\"role\":\"system\",\"content\":\"Purpose: The primary role of this agent is to assist users by providing\\\\n            them with step by step instructions on how to give first aid to the deciese \\\\n            identified.\"},{\"role\":\"user\",\"content\":\"Electrical shock from touching a live wire. What's the first step?\"},{\"role\":\"assistant\",\"content\":\"1. For an electrical shock, first, ensure the power source is turned off before touching the person. 2. Call emergency services. 3. If they are unconscious but breathing, place them in the recovery position. 4. If not breathing, start CPR.\"}]}\n",
      "{\"messages\": [{\"role\":\"system\",\"content\":\"Purpose: The primary role of this agent is to assist users by providing\\\\n            them with step by step instructions on how to give first aid to the deciese \\\\n            identified.\"},{\"role\":\"user\",\"content\":\"Heat exhaustion symptoms after being in the sun. How to treat?\"},{\"role\":\"assistant\",\"content\":\"1. For heat exhaustion, move the person to a cool place, have them lie down, and raise their legs. 2. Give them plenty of water to drink, and cool their skin with water. 3. Seek medical attention if conditions like confusion or vomiting occur.\"}]}\n"
     ]
    }
   ],
   "source": [
    "!cat datafile_nostring_around_data.jsonl"
   ]
  },
  {
   "cell_type": "code",
   "execution_count": 16,
   "metadata": {},
   "outputs": [],
   "source": [
    "# Define the client\n",
    "from openai import OpenAI\n",
    "client = OpenAI(api_key = \"\")"
   ]
  },
  {
   "cell_type": "code",
   "execution_count": 17,
   "metadata": {},
   "outputs": [
    {
     "data": {
      "text/plain": [
       "FileObject(id='file-VBTTKBUqzdtNaitGFBTfbAKU', bytes=7042, created_at=1712454484, filename='datafile_nostring_around_data.jsonl', object='file', purpose='fine-tune', status='processed', status_details=None)"
      ]
     },
     "execution_count": 17,
     "metadata": {},
     "output_type": "execute_result"
    }
   ],
   "source": [
    "# Using python\n",
    "client.files.create(\n",
    "    file = open(\"datafile_nostring_around_data.jsonl\", \"rb\"),\n",
    "    purpose = \"fine-tune\"\n",
    ")"
   ]
  },
  {
   "cell_type": "code",
   "execution_count": 37,
   "metadata": {},
   "outputs": [
    {
     "ename": "BadRequestError",
     "evalue": "Error code: 400 - {'error': {'message': 'invalid training_file: /Users/shakthiraveen/Desktop/AI-Driven.nosync/RAFT/datafile_nostring_around_data.jsonl', 'type': 'invalid_request_error', 'param': 'training_file', 'code': None}}",
     "output_type": "error",
     "traceback": [
      "\u001b[0;31m---------------------------------------------------------------------------\u001b[0m",
      "\u001b[0;31mBadRequestError\u001b[0m                           Traceback (most recent call last)",
      "Cell \u001b[0;32mIn[37], line 1\u001b[0m\n\u001b[0;32m----> 1\u001b[0m response \u001b[38;5;241m=\u001b[39m \u001b[43mclient\u001b[49m\u001b[38;5;241;43m.\u001b[39;49m\u001b[43mfine_tuning\u001b[49m\u001b[38;5;241;43m.\u001b[39;49m\u001b[43mjobs\u001b[49m\u001b[38;5;241;43m.\u001b[39;49m\u001b[43mcreate\u001b[49m\u001b[43m(\u001b[49m\n\u001b[1;32m      2\u001b[0m \u001b[43m    \u001b[49m\u001b[43mtraining_file\u001b[49m\u001b[43m \u001b[49m\u001b[38;5;241;43m=\u001b[39;49m\u001b[43m \u001b[49m\u001b[43mos\u001b[49m\u001b[38;5;241;43m.\u001b[39;49m\u001b[43mpath\u001b[49m\u001b[38;5;241;43m.\u001b[39;49m\u001b[43mabspath\u001b[49m\u001b[43m(\u001b[49m\u001b[38;5;124;43m\"\u001b[39;49m\u001b[38;5;124;43mdatafile_nostring_around_data.jsonl\u001b[39;49m\u001b[38;5;124;43m\"\u001b[39;49m\u001b[43m)\u001b[49m\u001b[43m,\u001b[49m\n\u001b[1;32m      3\u001b[0m \u001b[43m    \u001b[49m\u001b[43mmodel\u001b[49m\u001b[43m \u001b[49m\u001b[38;5;241;43m=\u001b[39;49m\u001b[43m \u001b[49m\u001b[38;5;124;43m\"\u001b[39;49m\u001b[38;5;124;43mgpt-3.5-turbo\u001b[39;49m\u001b[38;5;124;43m\"\u001b[39;49m\u001b[43m,\u001b[49m\n\u001b[1;32m      4\u001b[0m \u001b[43m)\u001b[49m\n\u001b[1;32m      6\u001b[0m \u001b[38;5;28mprint\u001b[39m(response)\n",
      "File \u001b[0;32m~/Desktop/AI-Driven.nosync/RAFT/venv/lib/python3.11/site-packages/openai/resources/fine_tuning/jobs.py:112\u001b[0m, in \u001b[0;36mJobs.create\u001b[0;34m(self, model, training_file, hyperparameters, suffix, validation_file, extra_headers, extra_query, extra_body, timeout)\u001b[0m\n\u001b[1;32m     44\u001b[0m \u001b[38;5;28;01mdef\u001b[39;00m \u001b[38;5;21mcreate\u001b[39m(\n\u001b[1;32m     45\u001b[0m     \u001b[38;5;28mself\u001b[39m,\n\u001b[1;32m     46\u001b[0m     \u001b[38;5;241m*\u001b[39m,\n\u001b[0;32m   (...)\u001b[0m\n\u001b[1;32m     57\u001b[0m     timeout: \u001b[38;5;28mfloat\u001b[39m \u001b[38;5;241m|\u001b[39m httpx\u001b[38;5;241m.\u001b[39mTimeout \u001b[38;5;241m|\u001b[39m \u001b[38;5;28;01mNone\u001b[39;00m \u001b[38;5;241m|\u001b[39m NotGiven \u001b[38;5;241m=\u001b[39m NOT_GIVEN,\n\u001b[1;32m     58\u001b[0m ) \u001b[38;5;241m-\u001b[39m\u001b[38;5;241m>\u001b[39m FineTuningJob:\n\u001b[1;32m     59\u001b[0m \u001b[38;5;250m    \u001b[39m\u001b[38;5;124;03m\"\"\"\u001b[39;00m\n\u001b[1;32m     60\u001b[0m \u001b[38;5;124;03m    Creates a fine-tuning job which begins the process of creating a new model from\u001b[39;00m\n\u001b[1;32m     61\u001b[0m \u001b[38;5;124;03m    a given dataset.\u001b[39;00m\n\u001b[0;32m   (...)\u001b[0m\n\u001b[1;32m    110\u001b[0m \u001b[38;5;124;03m      timeout: Override the client-level default timeout for this request, in seconds\u001b[39;00m\n\u001b[1;32m    111\u001b[0m \u001b[38;5;124;03m    \"\"\"\u001b[39;00m\n\u001b[0;32m--> 112\u001b[0m     \u001b[38;5;28;01mreturn\u001b[39;00m \u001b[38;5;28;43mself\u001b[39;49m\u001b[38;5;241;43m.\u001b[39;49m\u001b[43m_post\u001b[49m\u001b[43m(\u001b[49m\n\u001b[1;32m    113\u001b[0m \u001b[43m        \u001b[49m\u001b[38;5;124;43m\"\u001b[39;49m\u001b[38;5;124;43m/fine_tuning/jobs\u001b[39;49m\u001b[38;5;124;43m\"\u001b[39;49m\u001b[43m,\u001b[49m\n\u001b[1;32m    114\u001b[0m \u001b[43m        \u001b[49m\u001b[43mbody\u001b[49m\u001b[38;5;241;43m=\u001b[39;49m\u001b[43mmaybe_transform\u001b[49m\u001b[43m(\u001b[49m\n\u001b[1;32m    115\u001b[0m \u001b[43m            \u001b[49m\u001b[43m{\u001b[49m\n\u001b[1;32m    116\u001b[0m \u001b[43m                \u001b[49m\u001b[38;5;124;43m\"\u001b[39;49m\u001b[38;5;124;43mmodel\u001b[39;49m\u001b[38;5;124;43m\"\u001b[39;49m\u001b[43m:\u001b[49m\u001b[43m \u001b[49m\u001b[43mmodel\u001b[49m\u001b[43m,\u001b[49m\n\u001b[1;32m    117\u001b[0m \u001b[43m                \u001b[49m\u001b[38;5;124;43m\"\u001b[39;49m\u001b[38;5;124;43mtraining_file\u001b[39;49m\u001b[38;5;124;43m\"\u001b[39;49m\u001b[43m:\u001b[49m\u001b[43m \u001b[49m\u001b[43mtraining_file\u001b[49m\u001b[43m,\u001b[49m\n\u001b[1;32m    118\u001b[0m \u001b[43m                \u001b[49m\u001b[38;5;124;43m\"\u001b[39;49m\u001b[38;5;124;43mhyperparameters\u001b[39;49m\u001b[38;5;124;43m\"\u001b[39;49m\u001b[43m:\u001b[49m\u001b[43m \u001b[49m\u001b[43mhyperparameters\u001b[49m\u001b[43m,\u001b[49m\n\u001b[1;32m    119\u001b[0m \u001b[43m                \u001b[49m\u001b[38;5;124;43m\"\u001b[39;49m\u001b[38;5;124;43msuffix\u001b[39;49m\u001b[38;5;124;43m\"\u001b[39;49m\u001b[43m:\u001b[49m\u001b[43m \u001b[49m\u001b[43msuffix\u001b[49m\u001b[43m,\u001b[49m\n\u001b[1;32m    120\u001b[0m \u001b[43m                \u001b[49m\u001b[38;5;124;43m\"\u001b[39;49m\u001b[38;5;124;43mvalidation_file\u001b[39;49m\u001b[38;5;124;43m\"\u001b[39;49m\u001b[43m:\u001b[49m\u001b[43m \u001b[49m\u001b[43mvalidation_file\u001b[49m\u001b[43m,\u001b[49m\n\u001b[1;32m    121\u001b[0m \u001b[43m            \u001b[49m\u001b[43m}\u001b[49m\u001b[43m,\u001b[49m\n\u001b[1;32m    122\u001b[0m \u001b[43m            \u001b[49m\u001b[43mjob_create_params\u001b[49m\u001b[38;5;241;43m.\u001b[39;49m\u001b[43mJobCreateParams\u001b[49m\u001b[43m,\u001b[49m\n\u001b[1;32m    123\u001b[0m \u001b[43m        \u001b[49m\u001b[43m)\u001b[49m\u001b[43m,\u001b[49m\n\u001b[1;32m    124\u001b[0m \u001b[43m        \u001b[49m\u001b[43moptions\u001b[49m\u001b[38;5;241;43m=\u001b[39;49m\u001b[43mmake_request_options\u001b[49m\u001b[43m(\u001b[49m\n\u001b[1;32m    125\u001b[0m \u001b[43m            \u001b[49m\u001b[43mextra_headers\u001b[49m\u001b[38;5;241;43m=\u001b[39;49m\u001b[43mextra_headers\u001b[49m\u001b[43m,\u001b[49m\u001b[43m \u001b[49m\u001b[43mextra_query\u001b[49m\u001b[38;5;241;43m=\u001b[39;49m\u001b[43mextra_query\u001b[49m\u001b[43m,\u001b[49m\u001b[43m \u001b[49m\u001b[43mextra_body\u001b[49m\u001b[38;5;241;43m=\u001b[39;49m\u001b[43mextra_body\u001b[49m\u001b[43m,\u001b[49m\u001b[43m \u001b[49m\u001b[43mtimeout\u001b[49m\u001b[38;5;241;43m=\u001b[39;49m\u001b[43mtimeout\u001b[49m\n\u001b[1;32m    126\u001b[0m \u001b[43m        \u001b[49m\u001b[43m)\u001b[49m\u001b[43m,\u001b[49m\n\u001b[1;32m    127\u001b[0m \u001b[43m        \u001b[49m\u001b[43mcast_to\u001b[49m\u001b[38;5;241;43m=\u001b[39;49m\u001b[43mFineTuningJob\u001b[49m\u001b[43m,\u001b[49m\n\u001b[1;32m    128\u001b[0m \u001b[43m    \u001b[49m\u001b[43m)\u001b[49m\n",
      "File \u001b[0;32m~/Desktop/AI-Driven.nosync/RAFT/venv/lib/python3.11/site-packages/openai/_base_client.py:1213\u001b[0m, in \u001b[0;36mSyncAPIClient.post\u001b[0;34m(self, path, cast_to, body, options, files, stream, stream_cls)\u001b[0m\n\u001b[1;32m   1199\u001b[0m \u001b[38;5;28;01mdef\u001b[39;00m \u001b[38;5;21mpost\u001b[39m(\n\u001b[1;32m   1200\u001b[0m     \u001b[38;5;28mself\u001b[39m,\n\u001b[1;32m   1201\u001b[0m     path: \u001b[38;5;28mstr\u001b[39m,\n\u001b[0;32m   (...)\u001b[0m\n\u001b[1;32m   1208\u001b[0m     stream_cls: \u001b[38;5;28mtype\u001b[39m[_StreamT] \u001b[38;5;241m|\u001b[39m \u001b[38;5;28;01mNone\u001b[39;00m \u001b[38;5;241m=\u001b[39m \u001b[38;5;28;01mNone\u001b[39;00m,\n\u001b[1;32m   1209\u001b[0m ) \u001b[38;5;241m-\u001b[39m\u001b[38;5;241m>\u001b[39m ResponseT \u001b[38;5;241m|\u001b[39m _StreamT:\n\u001b[1;32m   1210\u001b[0m     opts \u001b[38;5;241m=\u001b[39m FinalRequestOptions\u001b[38;5;241m.\u001b[39mconstruct(\n\u001b[1;32m   1211\u001b[0m         method\u001b[38;5;241m=\u001b[39m\u001b[38;5;124m\"\u001b[39m\u001b[38;5;124mpost\u001b[39m\u001b[38;5;124m\"\u001b[39m, url\u001b[38;5;241m=\u001b[39mpath, json_data\u001b[38;5;241m=\u001b[39mbody, files\u001b[38;5;241m=\u001b[39mto_httpx_files(files), \u001b[38;5;241m*\u001b[39m\u001b[38;5;241m*\u001b[39moptions\n\u001b[1;32m   1212\u001b[0m     )\n\u001b[0;32m-> 1213\u001b[0m     \u001b[38;5;28;01mreturn\u001b[39;00m cast(ResponseT, \u001b[38;5;28;43mself\u001b[39;49m\u001b[38;5;241;43m.\u001b[39;49m\u001b[43mrequest\u001b[49m\u001b[43m(\u001b[49m\u001b[43mcast_to\u001b[49m\u001b[43m,\u001b[49m\u001b[43m \u001b[49m\u001b[43mopts\u001b[49m\u001b[43m,\u001b[49m\u001b[43m \u001b[49m\u001b[43mstream\u001b[49m\u001b[38;5;241;43m=\u001b[39;49m\u001b[43mstream\u001b[49m\u001b[43m,\u001b[49m\u001b[43m \u001b[49m\u001b[43mstream_cls\u001b[49m\u001b[38;5;241;43m=\u001b[39;49m\u001b[43mstream_cls\u001b[49m\u001b[43m)\u001b[49m)\n",
      "File \u001b[0;32m~/Desktop/AI-Driven.nosync/RAFT/venv/lib/python3.11/site-packages/openai/_base_client.py:902\u001b[0m, in \u001b[0;36mSyncAPIClient.request\u001b[0;34m(self, cast_to, options, remaining_retries, stream, stream_cls)\u001b[0m\n\u001b[1;32m    893\u001b[0m \u001b[38;5;28;01mdef\u001b[39;00m \u001b[38;5;21mrequest\u001b[39m(\n\u001b[1;32m    894\u001b[0m     \u001b[38;5;28mself\u001b[39m,\n\u001b[1;32m    895\u001b[0m     cast_to: Type[ResponseT],\n\u001b[0;32m   (...)\u001b[0m\n\u001b[1;32m    900\u001b[0m     stream_cls: \u001b[38;5;28mtype\u001b[39m[_StreamT] \u001b[38;5;241m|\u001b[39m \u001b[38;5;28;01mNone\u001b[39;00m \u001b[38;5;241m=\u001b[39m \u001b[38;5;28;01mNone\u001b[39;00m,\n\u001b[1;32m    901\u001b[0m ) \u001b[38;5;241m-\u001b[39m\u001b[38;5;241m>\u001b[39m ResponseT \u001b[38;5;241m|\u001b[39m _StreamT:\n\u001b[0;32m--> 902\u001b[0m     \u001b[38;5;28;01mreturn\u001b[39;00m \u001b[38;5;28;43mself\u001b[39;49m\u001b[38;5;241;43m.\u001b[39;49m\u001b[43m_request\u001b[49m\u001b[43m(\u001b[49m\n\u001b[1;32m    903\u001b[0m \u001b[43m        \u001b[49m\u001b[43mcast_to\u001b[49m\u001b[38;5;241;43m=\u001b[39;49m\u001b[43mcast_to\u001b[49m\u001b[43m,\u001b[49m\n\u001b[1;32m    904\u001b[0m \u001b[43m        \u001b[49m\u001b[43moptions\u001b[49m\u001b[38;5;241;43m=\u001b[39;49m\u001b[43moptions\u001b[49m\u001b[43m,\u001b[49m\n\u001b[1;32m    905\u001b[0m \u001b[43m        \u001b[49m\u001b[43mstream\u001b[49m\u001b[38;5;241;43m=\u001b[39;49m\u001b[43mstream\u001b[49m\u001b[43m,\u001b[49m\n\u001b[1;32m    906\u001b[0m \u001b[43m        \u001b[49m\u001b[43mstream_cls\u001b[49m\u001b[38;5;241;43m=\u001b[39;49m\u001b[43mstream_cls\u001b[49m\u001b[43m,\u001b[49m\n\u001b[1;32m    907\u001b[0m \u001b[43m        \u001b[49m\u001b[43mremaining_retries\u001b[49m\u001b[38;5;241;43m=\u001b[39;49m\u001b[43mremaining_retries\u001b[49m\u001b[43m,\u001b[49m\n\u001b[1;32m    908\u001b[0m \u001b[43m    \u001b[49m\u001b[43m)\u001b[49m\n",
      "File \u001b[0;32m~/Desktop/AI-Driven.nosync/RAFT/venv/lib/python3.11/site-packages/openai/_base_client.py:993\u001b[0m, in \u001b[0;36mSyncAPIClient._request\u001b[0;34m(self, cast_to, options, remaining_retries, stream, stream_cls)\u001b[0m\n\u001b[1;32m    990\u001b[0m         err\u001b[38;5;241m.\u001b[39mresponse\u001b[38;5;241m.\u001b[39mread()\n\u001b[1;32m    992\u001b[0m     log\u001b[38;5;241m.\u001b[39mdebug(\u001b[38;5;124m\"\u001b[39m\u001b[38;5;124mRe-raising status error\u001b[39m\u001b[38;5;124m\"\u001b[39m)\n\u001b[0;32m--> 993\u001b[0m     \u001b[38;5;28;01mraise\u001b[39;00m \u001b[38;5;28mself\u001b[39m\u001b[38;5;241m.\u001b[39m_make_status_error_from_response(err\u001b[38;5;241m.\u001b[39mresponse) \u001b[38;5;28;01mfrom\u001b[39;00m \u001b[38;5;28;01mNone\u001b[39;00m\n\u001b[1;32m    995\u001b[0m \u001b[38;5;28;01mreturn\u001b[39;00m \u001b[38;5;28mself\u001b[39m\u001b[38;5;241m.\u001b[39m_process_response(\n\u001b[1;32m    996\u001b[0m     cast_to\u001b[38;5;241m=\u001b[39mcast_to,\n\u001b[1;32m    997\u001b[0m     options\u001b[38;5;241m=\u001b[39moptions,\n\u001b[0;32m   (...)\u001b[0m\n\u001b[1;32m   1000\u001b[0m     stream_cls\u001b[38;5;241m=\u001b[39mstream_cls,\n\u001b[1;32m   1001\u001b[0m )\n",
      "\u001b[0;31mBadRequestError\u001b[0m: Error code: 400 - {'error': {'message': 'invalid training_file: /Users/shakthiraveen/Desktop/AI-Driven.nosync/RAFT/datafile_nostring_around_data.jsonl', 'type': 'invalid_request_error', 'param': 'training_file', 'code': None}}"
     ]
    }
   ],
   "source": [
    "\n",
    "response = client.fine_tuning.jobs.create(\n",
    "    training_file = os.path.abspath(\"datafile_nostring_around_data.jsonl\"),\n",
    "    model = \"gpt-3.5-turbo\",\n",
    ")\n",
    "\n",
    "print(response)"
   ]
  },
  {
   "cell_type": "code",
   "execution_count": null,
   "metadata": {},
   "outputs": [],
   "source": []
  },
  {
   "cell_type": "code",
   "execution_count": null,
   "metadata": {},
   "outputs": [],
   "source": []
  }
 ],
 "metadata": {
  "kernelspec": {
   "display_name": "venv",
   "language": "python",
   "name": "python3"
  },
  "language_info": {
   "codemirror_mode": {
    "name": "ipython",
    "version": 3
   },
   "file_extension": ".py",
   "mimetype": "text/x-python",
   "name": "python",
   "nbconvert_exporter": "python",
   "pygments_lexer": "ipython3",
   "version": "3.11.5"
  }
 },
 "nbformat": 4,
 "nbformat_minor": 2
}
